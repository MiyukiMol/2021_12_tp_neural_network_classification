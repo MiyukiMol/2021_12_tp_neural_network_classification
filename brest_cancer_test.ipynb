{
 "cells": [
  {
   "cell_type": "markdown",
   "id": "b94cddfa",
   "metadata": {},
   "source": [
    "###  Etude sur Introduction aux réseaux de neurones artificiels 2 - classification"
   ]
  },
  {
   "cell_type": "markdown",
   "id": "285c2f44",
   "metadata": {},
   "source": [
    "### test"
   ]
  },
  {
   "cell_type": "markdown",
   "id": "4f6b8abc",
   "metadata": {},
   "source": [
    "### 1 - Importation des librairies Python nécessaires à la résolution du problème"
   ]
  },
  {
   "cell_type": "code",
   "execution_count": 16,
   "id": "4b1b6fc6",
   "metadata": {},
   "outputs": [],
   "source": [
    "import numpy as np\n",
    "import pandas as pd\n",
    "import matplotlib.pyplot as plt\n",
    "import seaborn as sns\n",
    "import joblib\n",
    "import pickle as pkl\n",
    "from sklearn.model_selection import GridSearchCV\n",
    "from sklearn.metrics import accuracy_score, mean_squared_error, r2_score\n",
    "from sklearn.metrics import confusion_matrix\n",
    "from sklearn.neural_network import MLPClassifier\n",
    "from sklearn.metrics import f1_score\n",
    "from sklearn.metrics import roc_auc_score\n",
    "from sklearn.metrics import roc_curve\n",
    "from sklearn.metrics import auc\n",
    "from sklearn.metrics import plot_roc_curve"
   ]
  },
  {
   "cell_type": "code",
   "execution_count": 2,
   "id": "53b3e687",
   "metadata": {},
   "outputs": [],
   "source": [
    "pd.set_option(\"max_columns\", None)\n",
    "pd.set_option(\"max_colwidth\", None)\n",
    "pd.set_option(\"max_row\", 500)"
   ]
  },
  {
   "cell_type": "markdown",
   "id": "43ddb662",
   "metadata": {},
   "source": [
    "### 2 - Chargement de modèle et des données test"
   ]
  },
  {
   "cell_type": "code",
   "execution_count": 3,
   "id": "be4736dc",
   "metadata": {},
   "outputs": [],
   "source": [
    "model = joblib.load(\"model_MLPC.pkl\")"
   ]
  },
  {
   "cell_type": "code",
   "execution_count": 4,
   "id": "c31186b8",
   "metadata": {},
   "outputs": [
    {
     "data": {
      "text/plain": [
       "MLPClassifier(hidden_layer_sizes=22, max_iter=10000, random_state=42,\n",
       "              solver='lbfgs')"
      ]
     },
     "execution_count": 4,
     "metadata": {},
     "output_type": "execute_result"
    }
   ],
   "source": [
    "model"
   ]
  },
  {
   "cell_type": "code",
   "execution_count": 5,
   "id": "105e3181",
   "metadata": {},
   "outputs": [],
   "source": [
    "X_train = joblib.load(\"X_train.joblib\")"
   ]
  },
  {
   "cell_type": "code",
   "execution_count": 6,
   "id": "cb6649a7",
   "metadata": {},
   "outputs": [],
   "source": [
    "y_train = joblib.load(\"y_train.joblib\")"
   ]
  },
  {
   "cell_type": "code",
   "execution_count": 7,
   "id": "9ee23a33",
   "metadata": {},
   "outputs": [],
   "source": [
    "X_test = joblib.load(\"X_test.joblib\")"
   ]
  },
  {
   "cell_type": "code",
   "execution_count": 8,
   "id": "1ff06bc6",
   "metadata": {},
   "outputs": [],
   "source": [
    "y_test = joblib.load(\"y_test.joblib\")"
   ]
  },
  {
   "cell_type": "markdown",
   "id": "c7781b26",
   "metadata": {},
   "source": [
    "### 3 - test avec le modèle"
   ]
  },
  {
   "cell_type": "code",
   "execution_count": 9,
   "id": "dadc23b4",
   "metadata": {},
   "outputs": [
    {
     "data": {
      "text/plain": [
       "0.9736842105263158"
      ]
     },
     "execution_count": 9,
     "metadata": {},
     "output_type": "execute_result"
    }
   ],
   "source": [
    "model.score(X_test, y_test)"
   ]
  },
  {
   "cell_type": "code",
   "execution_count": 10,
   "id": "daf62e2a",
   "metadata": {},
   "outputs": [],
   "source": [
    "y_predict_test = model.predict(X_test)"
   ]
  },
  {
   "cell_type": "code",
   "execution_count": 11,
   "id": "0a63d363",
   "metadata": {},
   "outputs": [
    {
     "name": "stdout",
     "output_type": "stream",
     "text": [
      "test accuracy: 0.9736842105263158\n"
     ]
    }
   ],
   "source": [
    "accuracy_test = accuracy_score(y_test, y_predict_test)\n",
    "print(f'test accuracy: {accuracy_test}')"
   ]
  },
  {
   "cell_type": "code",
   "execution_count": 14,
   "id": "638f8d65",
   "metadata": {},
   "outputs": [
    {
     "name": "stdout",
     "output_type": "stream",
     "text": [
      "F1 score for test: 0.979\n"
     ]
    }
   ],
   "source": [
    "f1 = f1_score(y_test, y_predict_test)\n",
    "print('F1 score for test: {:.3f}'.format(f1))"
   ]
  },
  {
   "cell_type": "markdown",
   "id": "df764845",
   "metadata": {},
   "source": [
    "### cross entropy avec sklearn"
   ]
  },
  {
   "cell_type": "code",
   "execution_count": 59,
   "id": "976fa627",
   "metadata": {},
   "outputs": [
    {
     "data": {
      "text/html": [
       "<div>\n",
       "<style scoped>\n",
       "    .dataframe tbody tr th:only-of-type {\n",
       "        vertical-align: middle;\n",
       "    }\n",
       "\n",
       "    .dataframe tbody tr th {\n",
       "        vertical-align: top;\n",
       "    }\n",
       "\n",
       "    .dataframe thead th {\n",
       "        text-align: right;\n",
       "    }\n",
       "</style>\n",
       "<table border=\"1\" class=\"dataframe\">\n",
       "  <thead>\n",
       "    <tr style=\"text-align: right;\">\n",
       "      <th></th>\n",
       "      <th>0</th>\n",
       "    </tr>\n",
       "  </thead>\n",
       "  <tbody>\n",
       "    <tr>\n",
       "      <th>0</th>\n",
       "      <td>1</td>\n",
       "    </tr>\n",
       "    <tr>\n",
       "      <th>1</th>\n",
       "      <td>0</td>\n",
       "    </tr>\n",
       "    <tr>\n",
       "      <th>2</th>\n",
       "      <td>0</td>\n",
       "    </tr>\n",
       "    <tr>\n",
       "      <th>3</th>\n",
       "      <td>1</td>\n",
       "    </tr>\n",
       "    <tr>\n",
       "      <th>4</th>\n",
       "      <td>1</td>\n",
       "    </tr>\n",
       "  </tbody>\n",
       "</table>\n",
       "</div>"
      ],
      "text/plain": [
       "   0\n",
       "0  1\n",
       "1  0\n",
       "2  0\n",
       "3  1\n",
       "4  1"
      ]
     },
     "execution_count": 59,
     "metadata": {},
     "output_type": "execute_result"
    }
   ],
   "source": [
    "# affichage de y_predit en dataframe\n",
    "pd.DataFrame(model.predict(X_test)).head()"
   ]
  },
  {
   "cell_type": "code",
   "execution_count": 58,
   "id": "e4f5d47d",
   "metadata": {},
   "outputs": [
    {
     "data": {
      "text/html": [
       "<div>\n",
       "<style scoped>\n",
       "    .dataframe tbody tr th:only-of-type {\n",
       "        vertical-align: middle;\n",
       "    }\n",
       "\n",
       "    .dataframe tbody tr th {\n",
       "        vertical-align: top;\n",
       "    }\n",
       "\n",
       "    .dataframe thead th {\n",
       "        text-align: right;\n",
       "    }\n",
       "</style>\n",
       "<table border=\"1\" class=\"dataframe\">\n",
       "  <thead>\n",
       "    <tr style=\"text-align: right;\">\n",
       "      <th></th>\n",
       "      <th>0</th>\n",
       "      <th>1</th>\n",
       "    </tr>\n",
       "  </thead>\n",
       "  <tbody>\n",
       "    <tr>\n",
       "      <th>0</th>\n",
       "      <td>0.000028</td>\n",
       "      <td>9.999720e-01</td>\n",
       "    </tr>\n",
       "    <tr>\n",
       "      <th>1</th>\n",
       "      <td>1.000000</td>\n",
       "      <td>8.711505e-56</td>\n",
       "    </tr>\n",
       "    <tr>\n",
       "      <th>2</th>\n",
       "      <td>1.000000</td>\n",
       "      <td>2.914965e-44</td>\n",
       "    </tr>\n",
       "    <tr>\n",
       "      <th>3</th>\n",
       "      <td>0.000000</td>\n",
       "      <td>1.000000e+00</td>\n",
       "    </tr>\n",
       "    <tr>\n",
       "      <th>4</th>\n",
       "      <td>0.000000</td>\n",
       "      <td>1.000000e+00</td>\n",
       "    </tr>\n",
       "  </tbody>\n",
       "</table>\n",
       "</div>"
      ],
      "text/plain": [
       "          0             1\n",
       "0  0.000028  9.999720e-01\n",
       "1  1.000000  8.711505e-56\n",
       "2  1.000000  2.914965e-44\n",
       "3  0.000000  1.000000e+00\n",
       "4  0.000000  1.000000e+00"
      ]
     },
     "execution_count": 58,
     "metadata": {},
     "output_type": "execute_result"
    }
   ],
   "source": [
    "#Cross-Entropy loss function, which allows probability estimates by running the predict_proba method.\n",
    "pd.DataFrame(model.predict_proba(X_test)).head()"
   ]
  },
  {
   "cell_type": "code",
   "execution_count": 71,
   "id": "0133d5b8",
   "metadata": {},
   "outputs": [],
   "source": [
    "# pour afficher loss curve (cross entropy), il faut solver='sgd'\n",
    "# notre model est solver='lbfgs', consigne de brief de Séb, donc j'ai créé un autre modèle pour l'afficher\n",
    "model_sgd = joblib.load(\"model_MLPR_sgd.pkl\")"
   ]
  },
  {
   "cell_type": "code",
   "execution_count": 68,
   "id": "7973671a",
   "metadata": {},
   "outputs": [
    {
     "data": {
      "text/plain": [
       "0.9824561403508771"
      ]
     },
     "execution_count": 68,
     "metadata": {},
     "output_type": "execute_result"
    }
   ],
   "source": [
    "# accuracy (score) est mieux que celui de solver='lbfgs'\n",
    "model_sgd.score(X_test, y_test)"
   ]
  },
  {
   "cell_type": "markdown",
   "id": "32529e41",
   "metadata": {},
   "source": [
    "accuracy (score)avec solver='sgd' est mieux que celui de solver='lbfgs'"
   ]
  },
  {
   "cell_type": "code",
   "execution_count": 74,
   "id": "831a8182",
   "metadata": {},
   "outputs": [],
   "source": [
    "y_predict_test_sgd = model_sgd.predict(X_test)"
   ]
  },
  {
   "cell_type": "code",
   "execution_count": 75,
   "id": "8b3c43ff",
   "metadata": {},
   "outputs": [
    {
     "name": "stdout",
     "output_type": "stream",
     "text": [
      "test accuracy: 0.9824561403508771\n"
     ]
    }
   ],
   "source": [
    "accuracy_test_sgd = accuracy_score(y_test, y_predict_test_sgd)\n",
    "print(f'test accuracy: {accuracy_test_sgd}')"
   ]
  },
  {
   "cell_type": "code",
   "execution_count": 69,
   "id": "711327a9",
   "metadata": {},
   "outputs": [
    {
     "data": {
      "image/png": "[encoded data removed]",
      "text/plain": [
       "<Figure size 432x288 with 1 Axes>"
      ]
     },
     "metadata": {
      "needs_background": "light"
     },
     "output_type": "display_data"
    }
   ],
   "source": [
    "# L'historique des pertes (écarts entre les données de l'enseignant et les prédictions) est stocké dans clf.loss_curve_.\n",
    "plt.title(\"Loss Curve\")\n",
    "plt.plot(model_sgd.loss_curve_)\n",
    "plt.xlabel(\"Iteration\")\n",
    "plt.ylabel(\"Loss\")\n",
    "plt.grid()\n",
    "plt.show()"
   ]
  },
  {
   "cell_type": "code",
   "execution_count": null,
   "id": "57de96a0",
   "metadata": {},
   "outputs": [],
   "source": []
  },
  {
   "cell_type": "markdown",
   "id": "f31bbbe9",
   "metadata": {},
   "source": [
    "### 4 - Courbe ROC, AUC for test"
   ]
  },
  {
   "cell_type": "code",
   "execution_count": 18,
   "id": "2d772b29",
   "metadata": {},
   "outputs": [],
   "source": [
    "roc_auc_score = roc_auc_score(y_test, y_predict_test)"
   ]
  },
  {
   "cell_type": "code",
   "execution_count": 19,
   "id": "3002c45c",
   "metadata": {},
   "outputs": [
    {
     "name": "stdout",
     "output_type": "stream",
     "text": [
      "AUC_test : 0.974\n"
     ]
    }
   ],
   "source": [
    "print('AUC_test : {:.3f}'.format(roc_auc_score))"
   ]
  },
  {
   "cell_type": "code",
   "execution_count": 20,
   "id": "38c61c61",
   "metadata": {},
   "outputs": [
    {
     "name": "stdout",
     "output_type": "stream",
     "text": [
      "AUC_test : 0.974\n"
     ]
    }
   ],
   "source": [
    "fpr, tpr, thresholds = roc_curve(y_test, y_predict_test)\n",
    "roc_auc = auc(fpr, tpr)\n",
    "print('AUC_test : {:.3f}'.format(roc_auc))"
   ]
  },
  {
   "cell_type": "code",
   "execution_count": 22,
   "id": "5090d4b5",
   "metadata": {},
   "outputs": [],
   "source": [
    "auc = auc(fpr, tpr)"
   ]
  },
  {
   "cell_type": "code",
   "execution_count": 23,
   "id": "a4f78c13",
   "metadata": {},
   "outputs": [
    {
     "data": {
      "image/png": "[encoded data removed]",
      "text/plain": [
       "<Figure size 432x288 with 1 Axes>"
      ]
     },
     "metadata": {
      "needs_background": "light"
     },
     "output_type": "display_data"
    }
   ],
   "source": [
    "plt.plot(fpr, tpr, label='ROC curve (area = %.2f)'%auc)\n",
    "plt.legend()\n",
    "plt.xlabel('FPR: False positive rate')\n",
    "plt.ylabel('TPR: True positive rate')\n",
    "plt.grid()\n",
    "plt.show()"
   ]
  },
  {
   "cell_type": "markdown",
   "id": "d6bee28b",
   "metadata": {},
   "source": [
    "### 5 - matrix de confusion"
   ]
  },
  {
   "cell_type": "code",
   "execution_count": 24,
   "id": "5e5e1d51",
   "metadata": {},
   "outputs": [],
   "source": [
    "#création de matrix de confusion\n",
    "cm_test = confusion_matrix(y_test, y_predict_test)"
   ]
  },
  {
   "cell_type": "code",
   "execution_count": 25,
   "id": "86c0ef54",
   "metadata": {},
   "outputs": [
    {
     "data": {
      "text/plain": [
       "array([[42,  1],\n",
       "       [ 2, 69]], dtype=int64)"
      ]
     },
     "execution_count": 25,
     "metadata": {},
     "output_type": "execute_result"
    }
   ],
   "source": [
    "cm_test"
   ]
  },
  {
   "cell_type": "code",
   "execution_count": 26,
   "id": "a566daba",
   "metadata": {},
   "outputs": [
    {
     "data": {
      "image/png": "[encoded data removed]",
      "text/plain": [
       "<Figure size 432x288 with 2 Axes>"
      ]
     },
     "metadata": {
      "needs_background": "light"
     },
     "output_type": "display_data"
    }
   ],
   "source": [
    "#pour RAJOUTER les labels et les pourcentages sur le graphique, passer par seaborn\n",
    "#fig = plt.figure(figsize=(15, 7), dpi=100)\n",
    "ax= plt.subplot()\n",
    "\n",
    "group_names = ['True_Neg','False_Pos','False_Neg','True_Pos']\n",
    "group_counts = [\"{0:0.0f}\".format(value) for value in cm_test.flatten()]\n",
    "group_percentages1 = [\"{0:.3%}\".format(value) for value in cm_test.flatten()[0:2]/np.sum(cm_test.flatten()[0:2])]\n",
    "group_percentages2 = [\"{0:.3%}\".format(value) for value in cm_test.flatten()[2:]/np.sum(cm_test.flatten()[2:])]\n",
    "group_percentages = np.append(group_percentages1, group_percentages2).tolist()\n",
    "labels = [f\"{v1}\\n{v2}\\n{v3}\" for v1, v2, v3 in zip (group_names, group_counts, group_percentages)]\n",
    "labels = np.array(labels).reshape(2,2)\n",
    "\n",
    "sns.heatmap(cm_test, annot=labels, fmt='', cmap='Blues')\n",
    "\n",
    "ax.set_xlabel('Predited labels')\n",
    "ax.set_ylabel('True labels') \n",
    "ax.set_title('Confusion Matrix Test') \n",
    "\n",
    "plt.show()"
   ]
  },
  {
   "cell_type": "markdown",
   "id": "01eaf6d6",
   "metadata": {},
   "source": [
    "Observation (score = accuracy):\n",
    "    \n",
    "         train score : 1.000000 \n",
    "    validation score : 0.964796\n",
    "          test score : 0.9736842105263158\n",
    "                \n",
    "hyperparamètre de modèle:\n",
    "    \n",
    "             'activation': 'relu',\n",
    "                  'alpha': 0.0001,\n",
    "     'hidden_layer_sizes': 22,\n",
    "                'max_fun': 15000,\n",
    "               'max_iter': 10000,\n",
    "           'random_state': 42,\n",
    "                 'solver': 'lbfgs'\n"
   ]
  },
  {
   "cell_type": "code",
   "execution_count": null,
   "id": "55feb22d",
   "metadata": {},
   "outputs": [],
   "source": []
  },
  {
   "cell_type": "code",
   "execution_count": null,
   "id": "404269b1",
   "metadata": {},
   "outputs": [],
   "source": []
  },
  {
   "cell_type": "code",
   "execution_count": null,
   "id": "1fb6b57a",
   "metadata": {},
   "outputs": [],
   "source": []
  },
  {
   "cell_type": "markdown",
   "id": "3ba659f2",
   "metadata": {},
   "source": [
    "https://qiita.com/maskot1977/items/d0253e1eab1ff1315dff\n",
    "\n",
    "https://scikit-learn.org/stable/modules/neural_networks_supervised.html\n",
    "\n",
    "https://free.kikagaku.ai/tutorial/basic_of_machine_learning/learn/machine_learning_classification\n",
    "\n",
    "https://vidyasheela.com/post/what-is-difference-between-cost-function-and-loss-function"
   ]
  },
  {
   "cell_type": "code",
   "execution_count": null,
   "id": "f075189b",
   "metadata": {},
   "outputs": [],
   "source": []
  },
  {
   "cell_type": "code",
   "execution_count": null,
   "id": "90aaa32c",
   "metadata": {},
   "outputs": [],
   "source": []
  },
  {
   "cell_type": "code",
   "execution_count": null,
   "id": "65e00901",
   "metadata": {},
   "outputs": [],
   "source": []
  }
 ],
 "metadata": {
  "kernelspec": {
   "display_name": "Python 3 (ipykernel)",
   "language": "python",
   "name": "python3"
  },
  "language_info": {
   "codemirror_mode": {
    "name": "ipython",
    "version": 3
   },
   "file_extension": ".py",
   "mimetype": "text/x-python",
   "name": "python",
   "nbconvert_exporter": "python",
   "pygments_lexer": "ipython3",
   "version": "3.9.7"
  }
 },
 "nbformat": 4,
 "nbformat_minor": 5
}
