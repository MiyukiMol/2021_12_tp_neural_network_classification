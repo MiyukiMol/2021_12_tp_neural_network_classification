{
 "cells": [
  {
   "cell_type": "markdown",
   "id": "b94cddfa",
   "metadata": {},
   "source": [
    "###  Etude sur Introduction aux réseaux de neurones artificiels 2 - classification"
   ]
  },
  {
   "cell_type": "markdown",
   "id": "285c2f44",
   "metadata": {},
   "source": [
    "### test"
   ]
  },
  {
   "cell_type": "markdown",
   "id": "4f6b8abc",
   "metadata": {},
   "source": [
    "### 1 - Importation des librairies Python nécessaires à la résolution du problème"
   ]
  },
  {
   "cell_type": "code",
   "execution_count": 1,
   "id": "4b1b6fc6",
   "metadata": {},
   "outputs": [],
   "source": [
    "import numpy as np\n",
    "import pandas as pd\n",
    "import matplotlib.pyplot as plt\n",
    "import seaborn as sns\n",
    "import joblib\n",
    "import pickle as pkl\n",
    "from sklearn.model_selection import GridSearchCV\n",
    "from sklearn.metrics import accuracy_score, mean_squared_error, r2_score\n",
    "from sklearn.metrics import confusion_matrix\n",
    "from sklearn.neural_network import MLPClassifier"
   ]
  },
  {
   "cell_type": "code",
   "execution_count": 2,
   "id": "53b3e687",
   "metadata": {},
   "outputs": [],
   "source": [
    "pd.set_option(\"max_columns\", None)\n",
    "pd.set_option(\"max_colwidth\", None)\n",
    "pd.set_option(\"max_row\", 500)"
   ]
  },
  {
   "cell_type": "markdown",
   "id": "43ddb662",
   "metadata": {},
   "source": [
    "### 2 - Chargement de modèle et des données test"
   ]
  },
  {
   "cell_type": "code",
   "execution_count": 16,
   "id": "be4736dc",
   "metadata": {},
   "outputs": [],
   "source": [
    "model = joblib.load(\"model_MLPC.pkl\")"
   ]
  },
  {
   "cell_type": "code",
   "execution_count": 17,
   "id": "c31186b8",
   "metadata": {},
   "outputs": [
    {
     "data": {
      "text/plain": [
       "MLPClassifier(hidden_layer_sizes=22, max_iter=10000, random_state=42,\n",
       "              solver='lbfgs')"
      ]
     },
     "execution_count": 17,
     "metadata": {},
     "output_type": "execute_result"
    }
   ],
   "source": [
    "model"
   ]
  },
  {
   "cell_type": "code",
   "execution_count": 18,
   "id": "105e3181",
   "metadata": {},
   "outputs": [],
   "source": [
    "X_train = joblib.load(\"X_train.joblib\")"
   ]
  },
  {
   "cell_type": "code",
   "execution_count": 19,
   "id": "cb6649a7",
   "metadata": {},
   "outputs": [],
   "source": [
    "y_train = joblib.load(\"y_train.joblib\")"
   ]
  },
  {
   "cell_type": "code",
   "execution_count": 20,
   "id": "9ee23a33",
   "metadata": {},
   "outputs": [],
   "source": [
    "X_test = joblib.load(\"X_test.joblib\")"
   ]
  },
  {
   "cell_type": "code",
   "execution_count": 21,
   "id": "1ff06bc6",
   "metadata": {},
   "outputs": [],
   "source": [
    "y_test = joblib.load(\"y_test.joblib\")"
   ]
  },
  {
   "cell_type": "markdown",
   "id": "c7781b26",
   "metadata": {},
   "source": [
    "### 3 - test avec le modèle"
   ]
  },
  {
   "cell_type": "code",
   "execution_count": 22,
   "id": "dadc23b4",
   "metadata": {},
   "outputs": [
    {
     "data": {
      "text/plain": [
       "0.9736842105263158"
      ]
     },
     "execution_count": 22,
     "metadata": {},
     "output_type": "execute_result"
    }
   ],
   "source": [
    "model.score(X_test, y_test)"
   ]
  },
  {
   "cell_type": "code",
   "execution_count": 23,
   "id": "daf62e2a",
   "metadata": {},
   "outputs": [],
   "source": [
    "y_predict_test = model.predict(X_test)"
   ]
  },
  {
   "cell_type": "code",
   "execution_count": 24,
   "id": "5e5e1d51",
   "metadata": {},
   "outputs": [],
   "source": [
    "#création de matrix de confusion\n",
    "cm_test = confusion_matrix(y_test, y_predict_test)"
   ]
  },
  {
   "cell_type": "code",
   "execution_count": 25,
   "id": "86c0ef54",
   "metadata": {},
   "outputs": [
    {
     "data": {
      "text/plain": [
       "array([[42,  1],\n",
       "       [ 2, 69]], dtype=int64)"
      ]
     },
     "execution_count": 25,
     "metadata": {},
     "output_type": "execute_result"
    }
   ],
   "source": [
    "cm_test"
   ]
  },
  {
   "cell_type": "code",
   "execution_count": 26,
   "id": "a566daba",
   "metadata": {},
   "outputs": [
    {
     "data": {
      "image/png": "[encoded data removed]",
      "text/plain": [
       "<Figure size 432x288 with 2 Axes>"
      ]
     },
     "metadata": {
      "needs_background": "light"
     },
     "output_type": "display_data"
    }
   ],
   "source": [
    "#pour RAJOUTER les labels et les pourcentages sur le graphique, passer par seaborn\n",
    "#fig = plt.figure(figsize=(15, 7), dpi=100)\n",
    "ax= plt.subplot()\n",
    "\n",
    "group_names = ['True_Neg','False_Pos','False_Neg','True_Pos']\n",
    "group_counts = [\"{0:0.0f}\".format(value) for value in cm_test.flatten()]\n",
    "group_percentages1 = [\"{0:.3%}\".format(value) for value in cm_test.flatten()[0:2]/np.sum(cm_test.flatten()[0:2])]\n",
    "group_percentages2 = [\"{0:.3%}\".format(value) for value in cm_test.flatten()[2:]/np.sum(cm_test.flatten()[2:])]\n",
    "group_percentages = np.append(group_percentages1, group_percentages2).tolist()\n",
    "labels = [f\"{v1}\\n{v2}\\n{v3}\" for v1, v2, v3 in zip (group_names, group_counts, group_percentages)]\n",
    "labels = np.array(labels).reshape(2,2)\n",
    "\n",
    "sns.heatmap(cm_test, annot=labels, fmt='', cmap='Blues')\n",
    "\n",
    "ax.set_xlabel('Predited labels')\n",
    "ax.set_ylabel('True labels') \n",
    "ax.set_title('Confusion Matrix Test') \n",
    "\n",
    "plt.show()"
   ]
  },
  {
   "cell_type": "code",
   "execution_count": null,
   "id": "bb23cb94",
   "metadata": {},
   "outputs": [],
   "source": []
  },
  {
   "cell_type": "code",
   "execution_count": null,
   "id": "c610ac1b",
   "metadata": {},
   "outputs": [],
   "source": []
  },
  {
   "cell_type": "code",
   "execution_count": null,
   "id": "164d630a",
   "metadata": {},
   "outputs": [],
   "source": []
  },
  {
   "cell_type": "code",
   "execution_count": null,
   "id": "f075189b",
   "metadata": {},
   "outputs": [],
   "source": []
  },
  {
   "cell_type": "code",
   "execution_count": null,
   "id": "90aaa32c",
   "metadata": {},
   "outputs": [],
   "source": []
  },
  {
   "cell_type": "code",
   "execution_count": null,
   "id": "65e00901",
   "metadata": {},
   "outputs": [],
   "source": []
  }
 ],
 "metadata": {
  "kernelspec": {
   "display_name": "Python 3 (ipykernel)",
   "language": "python",
   "name": "python3"
  },
  "language_info": {
   "codemirror_mode": {
    "name": "ipython",
    "version": 3
   },
   "file_extension": ".py",
   "mimetype": "text/x-python",
   "name": "python",
   "nbconvert_exporter": "python",
   "pygments_lexer": "ipython3",
   "version": "3.9.7"
  }
 },
 "nbformat": 4,
 "nbformat_minor": 5
}
